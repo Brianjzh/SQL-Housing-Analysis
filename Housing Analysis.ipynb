{
 "cells": [
  {
   "cell_type": "markdown",
   "id": "5aaedb21-72f1-42ba-a508-b2bcd0b51fee",
   "metadata": {},
   "source": [
    "## Brian Zhang\n",
    "### 1/16/2025"
   ]
  },
  {
   "cell_type": "markdown",
   "id": "a5316b7d-1785-4826-9175-f7fb39086671",
   "metadata": {},
   "source": [
    "***"
   ]
  },
  {
   "cell_type": "markdown",
   "id": "0faad47f-1322-4103-ba2c-1ef6f978584d",
   "metadata": {},
   "source": [
    "#### Returning the first 7 records from the housing table"
   ]
  },
  {
   "cell_type": "code",
   "execution_count": 3,
   "id": "c6ee052a-9289-4a91-8209-9b9ff8d23036",
   "metadata": {},
   "outputs": [],
   "source": [
    "%load_ext sql\n",
    "%sql sqlite:///housing.db"
   ]
  },
  {
   "cell_type": "code",
   "execution_count": 5,
   "id": "5919bd8b-373f-43b1-8251-a58771601d86",
   "metadata": {},
   "outputs": [],
   "source": [
    "%config SqlMagic.style = '_DEPRECATED_DEFAULT'"
   ]
  },
  {
   "cell_type": "code",
   "execution_count": 7,
   "id": "245e8640-ffb3-44bc-ae83-c4a4b098bdbb",
   "metadata": {},
   "outputs": [],
   "source": [
    "import pandas as pd\n",
    "import sqlite3\n",
    "conn_mydb = sqlite3.connect(\"housing.db\")"
   ]
  },
  {
   "cell_type": "code",
   "execution_count": 9,
   "id": "d21864a0-a747-44df-a829-d7bcdc6ddb3b",
   "metadata": {},
   "outputs": [
    {
     "name": "stdout",
     "output_type": "stream",
     "text": [
      " * sqlite:///housing.db\n",
      "Done.\n"
     ]
    },
    {
     "data": {
      "text/html": [
       "<table>\n",
       "    <thead>\n",
       "        <tr>\n",
       "            <th>entry</th>\n",
       "            <th>city</th>\n",
       "            <th>year</th>\n",
       "            <th>month</th>\n",
       "            <th>sales</th>\n",
       "            <th>volume</th>\n",
       "            <th>median</th>\n",
       "            <th>listings</th>\n",
       "            <th>inventory</th>\n",
       "        </tr>\n",
       "    </thead>\n",
       "    <tbody>\n",
       "        <tr>\n",
       "            <td>1</td>\n",
       "            <td>Abilene</td>\n",
       "            <td>2000</td>\n",
       "            <td>1</td>\n",
       "            <td>72</td>\n",
       "            <td>5380000</td>\n",
       "            <td>71400</td>\n",
       "            <td>701</td>\n",
       "            <td>6.3</td>\n",
       "        </tr>\n",
       "        <tr>\n",
       "            <td>2</td>\n",
       "            <td>Abilene</td>\n",
       "            <td>2000</td>\n",
       "            <td>2</td>\n",
       "            <td>98</td>\n",
       "            <td>6505000</td>\n",
       "            <td>58700</td>\n",
       "            <td>746</td>\n",
       "            <td>6.6</td>\n",
       "        </tr>\n",
       "        <tr>\n",
       "            <td>3</td>\n",
       "            <td>Abilene</td>\n",
       "            <td>2000</td>\n",
       "            <td>3</td>\n",
       "            <td>130</td>\n",
       "            <td>9285000</td>\n",
       "            <td>58100</td>\n",
       "            <td>784</td>\n",
       "            <td>6.8</td>\n",
       "        </tr>\n",
       "        <tr>\n",
       "            <td>4</td>\n",
       "            <td>Abilene</td>\n",
       "            <td>2000</td>\n",
       "            <td>4</td>\n",
       "            <td>98</td>\n",
       "            <td>9730000</td>\n",
       "            <td>68600</td>\n",
       "            <td>785</td>\n",
       "            <td>6.9</td>\n",
       "        </tr>\n",
       "        <tr>\n",
       "            <td>5</td>\n",
       "            <td>Abilene</td>\n",
       "            <td>2000</td>\n",
       "            <td>5</td>\n",
       "            <td>141</td>\n",
       "            <td>10590000</td>\n",
       "            <td>67300</td>\n",
       "            <td>794</td>\n",
       "            <td>6.8</td>\n",
       "        </tr>\n",
       "        <tr>\n",
       "            <td>6</td>\n",
       "            <td>Abilene</td>\n",
       "            <td>2000</td>\n",
       "            <td>6</td>\n",
       "            <td>156</td>\n",
       "            <td>13910000</td>\n",
       "            <td>66900</td>\n",
       "            <td>780</td>\n",
       "            <td>6.6</td>\n",
       "        </tr>\n",
       "        <tr>\n",
       "            <td>7</td>\n",
       "            <td>Abilene</td>\n",
       "            <td>2000</td>\n",
       "            <td>7</td>\n",
       "            <td>152</td>\n",
       "            <td>12635000</td>\n",
       "            <td>73500</td>\n",
       "            <td>742</td>\n",
       "            <td>6.2</td>\n",
       "        </tr>\n",
       "    </tbody>\n",
       "</table>"
      ],
      "text/plain": [
       "[(1, 'Abilene', 2000, 1, 72, 5380000, 71400, 701, 6.3),\n",
       " (2, 'Abilene', 2000, 2, 98, 6505000, 58700, 746, 6.6),\n",
       " (3, 'Abilene', 2000, 3, 130, 9285000, 58100, 784, 6.8),\n",
       " (4, 'Abilene', 2000, 4, 98, 9730000, 68600, 785, 6.9),\n",
       " (5, 'Abilene', 2000, 5, 141, 10590000, 67300, 794, 6.8),\n",
       " (6, 'Abilene', 2000, 6, 156, 13910000, 66900, 780, 6.6),\n",
       " (7, 'Abilene', 2000, 7, 152, 12635000, 73500, 742, 6.2)]"
      ]
     },
     "execution_count": 9,
     "metadata": {},
     "output_type": "execute_result"
    }
   ],
   "source": [
    "%%sql\n",
    "SELECT * FROM housing LIMIT 7;"
   ]
  },
  {
   "cell_type": "markdown",
   "id": "6663b019-d280-434c-b38e-9635c255d4e9",
   "metadata": {},
   "source": [
    "***"
   ]
  },
  {
   "cell_type": "markdown",
   "id": "117dde37-93e9-4fd7-b717-5946baf92a92",
   "metadata": {},
   "source": [
    "#### The number of records in the data had sales greater than 100 and a median sales price greater than 100000."
   ]
  },
  {
   "cell_type": "code",
   "execution_count": 13,
   "id": "49019ff7-b8fc-4236-81fd-eacd9956120a",
   "metadata": {},
   "outputs": [
    {
     "name": "stdout",
     "output_type": "stream",
     "text": [
      " * sqlite:///housing.db\n",
      "Done.\n"
     ]
    },
    {
     "data": {
      "text/html": [
       "<table>\n",
       "    <thead>\n",
       "        <tr>\n",
       "            <th>sales_total</th>\n",
       "        </tr>\n",
       "    </thead>\n",
       "    <tbody>\n",
       "        <tr>\n",
       "            <td>5106</td>\n",
       "        </tr>\n",
       "    </tbody>\n",
       "</table>"
      ],
      "text/plain": [
       "[(5106,)]"
      ]
     },
     "execution_count": 13,
     "metadata": {},
     "output_type": "execute_result"
    }
   ],
   "source": [
    "%%sql\n",
    "SELECT COUNT(*) AS sales_total\n",
    "FROM housing\n",
    "WHERE sales > 100 AND median > 100000;"
   ]
  },
  {
   "cell_type": "markdown",
   "id": "212a23b0-136d-46c6-b7d4-68fc3d4e06a7",
   "metadata": {},
   "source": [
    "***"
   ]
  },
  {
   "cell_type": "markdown",
   "id": "82f0c8fb-16e7-4a97-93ed-fdfbbc40ce21",
   "metadata": {},
   "source": [
    "#### The number of records in the data that had sales greater than 100 or a median sales price less than 100000 by month."
   ]
  },
  {
   "cell_type": "code",
   "execution_count": 75,
   "id": "2b1d3a1d-0db1-47a0-92eb-2a27a923aa74",
   "metadata": {},
   "outputs": [
    {
     "name": "stdout",
     "output_type": "stream",
     "text": [
      " * sqlite:///housing.db\n",
      "Done.\n"
     ]
    },
    {
     "data": {
      "text/html": [
       "<table>\n",
       "    <thead>\n",
       "        <tr>\n",
       "            <th>month</th>\n",
       "            <th>num_records</th>\n",
       "        </tr>\n",
       "    </thead>\n",
       "    <tbody>\n",
       "        <tr>\n",
       "            <td>1</td>\n",
       "            <td>576</td>\n",
       "        </tr>\n",
       "        <tr>\n",
       "            <td>2</td>\n",
       "            <td>582</td>\n",
       "        </tr>\n",
       "        <tr>\n",
       "            <td>3</td>\n",
       "            <td>625</td>\n",
       "        </tr>\n",
       "        <tr>\n",
       "            <td>4</td>\n",
       "            <td>620</td>\n",
       "        </tr>\n",
       "        <tr>\n",
       "            <td>5</td>\n",
       "            <td>639</td>\n",
       "        </tr>\n",
       "        <tr>\n",
       "            <td>6</td>\n",
       "            <td>625</td>\n",
       "        </tr>\n",
       "        <tr>\n",
       "            <td>7</td>\n",
       "            <td>626</td>\n",
       "        </tr>\n",
       "        <tr>\n",
       "            <td>8</td>\n",
       "            <td>586</td>\n",
       "        </tr>\n",
       "        <tr>\n",
       "            <td>9</td>\n",
       "            <td>563</td>\n",
       "        </tr>\n",
       "        <tr>\n",
       "            <td>10</td>\n",
       "            <td>575</td>\n",
       "        </tr>\n",
       "        <tr>\n",
       "            <td>11</td>\n",
       "            <td>546</td>\n",
       "        </tr>\n",
       "        <tr>\n",
       "            <td>12</td>\n",
       "            <td>559</td>\n",
       "        </tr>\n",
       "    </tbody>\n",
       "</table>"
      ],
      "text/plain": [
       "[(1, 576),\n",
       " (2, 582),\n",
       " (3, 625),\n",
       " (4, 620),\n",
       " (5, 639),\n",
       " (6, 625),\n",
       " (7, 626),\n",
       " (8, 586),\n",
       " (9, 563),\n",
       " (10, 575),\n",
       " (11, 546),\n",
       " (12, 559)]"
      ]
     },
     "execution_count": 75,
     "metadata": {},
     "output_type": "execute_result"
    }
   ],
   "source": [
    "%%sql\n",
    "SELECT \n",
    "    month,\n",
    "    COUNT(*) AS num_records\n",
    "FROM \n",
    "    housing\n",
    "WHERE \n",
    "    sales > 100 OR median < 100000\n",
    "GROUP BY \n",
    "    month\n",
    "ORDER BY \n",
    "    month;\n"
   ]
  },
  {
   "cell_type": "markdown",
   "id": "235827b6-3e18-4ae1-bceb-08d5a73badba",
   "metadata": {},
   "source": [
    "***"
   ]
  },
  {
   "cell_type": "markdown",
   "id": "31669bff-cebd-483d-8a32-8a214884904b",
   "metadata": {},
   "source": [
    "#### The mean annual sales by city and year, excluding cities that begin with the letter H."
   ]
  },
  {
   "cell_type": "code",
   "execution_count": 82,
   "id": "dc92dcde-1b94-44cc-b357-10afbfe8e3f0",
   "metadata": {},
   "outputs": [
    {
     "name": "stdout",
     "output_type": "stream",
     "text": [
      " * sqlite:///housing.db\n",
      "Done.\n"
     ]
    },
    {
     "data": {
      "text/html": [
       "<table>\n",
       "    <thead>\n",
       "        <tr>\n",
       "            <th>city</th>\n",
       "            <th>year</th>\n",
       "            <th>mean_annual_sales</th>\n",
       "        </tr>\n",
       "    </thead>\n",
       "    <tbody>\n",
       "        <tr>\n",
       "            <td>Dallas</td>\n",
       "            <td>2006</td>\n",
       "            <td>5352.166666666667</td>\n",
       "        </tr>\n",
       "        <tr>\n",
       "            <td>Dallas</td>\n",
       "            <td>2015</td>\n",
       "            <td>5247.857142857143</td>\n",
       "        </tr>\n",
       "        <tr>\n",
       "            <td>Dallas</td>\n",
       "            <td>2014</td>\n",
       "            <td>5012.833333333333</td>\n",
       "        </tr>\n",
       "        <tr>\n",
       "            <td>Dallas</td>\n",
       "            <td>2005</td>\n",
       "            <td>4998.333333333333</td>\n",
       "        </tr>\n",
       "        <tr>\n",
       "            <td>Dallas</td>\n",
       "            <td>2013</td>\n",
       "            <td>4976.166666666667</td>\n",
       "        </tr>\n",
       "        <tr>\n",
       "            <td>Dallas</td>\n",
       "            <td>2007</td>\n",
       "            <td>4974.583333333333</td>\n",
       "        </tr>\n",
       "        <tr>\n",
       "            <td>Dallas</td>\n",
       "            <td>2004</td>\n",
       "            <td>4542.833333333333</td>\n",
       "        </tr>\n",
       "        <tr>\n",
       "            <td>Dallas</td>\n",
       "            <td>2008</td>\n",
       "            <td>4237.333333333333</td>\n",
       "        </tr>\n",
       "        <tr>\n",
       "            <td>Dallas</td>\n",
       "            <td>2012</td>\n",
       "            <td>4200.916666666667</td>\n",
       "        </tr>\n",
       "        <tr>\n",
       "            <td>Dallas</td>\n",
       "            <td>2003</td>\n",
       "            <td>4106.5</td>\n",
       "        </tr>\n",
       "        <tr>\n",
       "            <td>Dallas</td>\n",
       "            <td>2002</td>\n",
       "            <td>3933.25</td>\n",
       "        </tr>\n",
       "        <tr>\n",
       "            <td>Dallas</td>\n",
       "            <td>2001</td>\n",
       "            <td>3916.0</td>\n",
       "        </tr>\n",
       "        <tr>\n",
       "            <td>Dallas</td>\n",
       "            <td>2009</td>\n",
       "            <td>3824.25</td>\n",
       "        </tr>\n",
       "        <tr>\n",
       "            <td>Dallas</td>\n",
       "            <td>2000</td>\n",
       "            <td>3787.1666666666665</td>\n",
       "        </tr>\n",
       "        <tr>\n",
       "            <td>Dallas</td>\n",
       "            <td>2011</td>\n",
       "            <td>3554.6666666666665</td>\n",
       "        </tr>\n",
       "        <tr>\n",
       "            <td>Dallas</td>\n",
       "            <td>2010</td>\n",
       "            <td>3531.9166666666665</td>\n",
       "        </tr>\n",
       "        <tr>\n",
       "            <td>Austin</td>\n",
       "            <td>2015</td>\n",
       "            <td>2696.8571428571427</td>\n",
       "        </tr>\n",
       "        <tr>\n",
       "            <td>Austin</td>\n",
       "            <td>2014</td>\n",
       "            <td>2579.4166666666665</td>\n",
       "        </tr>\n",
       "        <tr>\n",
       "            <td>Austin</td>\n",
       "            <td>2013</td>\n",
       "            <td>2536.3333333333335</td>\n",
       "        </tr>\n",
       "        <tr>\n",
       "            <td>Austin</td>\n",
       "            <td>2006</td>\n",
       "            <td>2523.6666666666665</td>\n",
       "        </tr>\n",
       "    </tbody>\n",
       "</table>"
      ],
      "text/plain": [
       "[('Dallas', 2006, 5352.166666666667),\n",
       " ('Dallas', 2015, 5247.857142857143),\n",
       " ('Dallas', 2014, 5012.833333333333),\n",
       " ('Dallas', 2005, 4998.333333333333),\n",
       " ('Dallas', 2013, 4976.166666666667),\n",
       " ('Dallas', 2007, 4974.583333333333),\n",
       " ('Dallas', 2004, 4542.833333333333),\n",
       " ('Dallas', 2008, 4237.333333333333),\n",
       " ('Dallas', 2012, 4200.916666666667),\n",
       " ('Dallas', 2003, 4106.5),\n",
       " ('Dallas', 2002, 3933.25),\n",
       " ('Dallas', 2001, 3916.0),\n",
       " ('Dallas', 2009, 3824.25),\n",
       " ('Dallas', 2000, 3787.1666666666665),\n",
       " ('Dallas', 2011, 3554.6666666666665),\n",
       " ('Dallas', 2010, 3531.9166666666665),\n",
       " ('Austin', 2015, 2696.8571428571427),\n",
       " ('Austin', 2014, 2579.4166666666665),\n",
       " ('Austin', 2013, 2536.3333333333335),\n",
       " ('Austin', 2006, 2523.6666666666665)]"
      ]
     },
     "execution_count": 82,
     "metadata": {},
     "output_type": "execute_result"
    }
   ],
   "source": [
    "%%sql\n",
    "SELECT \n",
    "    city,\n",
    "    year,\n",
    "    AVG(sales) AS mean_annual_sales\n",
    "FROM \n",
    "    housing\n",
    "WHERE \n",
    "    city NOT LIKE 'H%' \n",
    "GROUP BY \n",
    "    city, year\n",
    "ORDER BY \n",
    "    mean_annual_sales DESC\n",
    "LIMIT 20;\n"
   ]
  },
  {
   "cell_type": "markdown",
   "id": "61cd23e2-05ed-4c98-99db-5cb3a6d90371",
   "metadata": {},
   "source": [
    "***"
   ]
  },
  {
   "cell_type": "markdown",
   "id": "aba19990-6b60-4141-9e98-995dfbdaf4f3",
   "metadata": {},
   "source": [
    "#### Sales in Austin in December 2010? "
   ]
  },
  {
   "cell_type": "code",
   "execution_count": 15,
   "id": "cfeaedbe-c569-4001-a3a2-22e28da79d2e",
   "metadata": {},
   "outputs": [
    {
     "name": "stdout",
     "output_type": "stream",
     "text": [
      " * sqlite:///housing.db\n",
      "Done.\n"
     ]
    },
    {
     "data": {
      "text/html": [
       "<table>\n",
       "    <thead>\n",
       "        <tr>\n",
       "            <th>city</th>\n",
       "            <th>year</th>\n",
       "            <th>sales</th>\n",
       "        </tr>\n",
       "    </thead>\n",
       "    <tbody>\n",
       "        <tr>\n",
       "            <td>Austin</td>\n",
       "            <td>2010</td>\n",
       "            <td>1561</td>\n",
       "        </tr>\n",
       "    </tbody>\n",
       "</table>"
      ],
      "text/plain": [
       "[('Austin', 2010, 1561)]"
      ]
     },
     "execution_count": 15,
     "metadata": {},
     "output_type": "execute_result"
    }
   ],
   "source": [
    "%%sql\n",
    "SELECT \n",
    "    city,\n",
    "    year,\n",
    "    sales\n",
    "FROM \n",
    "    housing\n",
    "WHERE \n",
    "    city = 'Austin' \n",
    "    AND year = 2010 AND month = 12;"
   ]
  },
  {
   "cell_type": "markdown",
   "id": "f8b488d5-40ae-4f71-8df8-74d0a7730c29",
   "metadata": {},
   "source": [
    "***"
   ]
  },
  {
   "cell_type": "markdown",
   "id": "d069280a-8b11-4873-8506-55bc4fd9e706",
   "metadata": {},
   "source": [
    "#### In 2010 in Austin, the month that had the most sales?"
   ]
  },
  {
   "cell_type": "code",
   "execution_count": 104,
   "id": "bc160fa4-5e29-4138-8f02-f2db9ed1cfc7",
   "metadata": {},
   "outputs": [
    {
     "name": "stdout",
     "output_type": "stream",
     "text": [
      " * sqlite:///housing.db\n",
      "Done.\n"
     ]
    },
    {
     "data": {
      "text/html": [
       "<table>\n",
       "    <thead>\n",
       "        <tr>\n",
       "            <th>month</th>\n",
       "            <th>sales</th>\n",
       "        </tr>\n",
       "    </thead>\n",
       "    <tbody>\n",
       "        <tr>\n",
       "            <td>5</td>\n",
       "            <td>2286</td>\n",
       "        </tr>\n",
       "    </tbody>\n",
       "</table>"
      ],
      "text/plain": [
       "[(5, 2286)]"
      ]
     },
     "execution_count": 104,
     "metadata": {},
     "output_type": "execute_result"
    }
   ],
   "source": [
    "%%sql\n",
    "SELECT \n",
    "    month,\n",
    "    sales\n",
    "FROM \n",
    "    housing\n",
    "WHERE \n",
    "    city = \"Austin\" \n",
    "    AND year = 2010\n",
    "ORDER BY \n",
    "    sales DESC\n",
    "LIMIT 1;\n"
   ]
  },
  {
   "cell_type": "markdown",
   "id": "d024bb76-9785-43c3-a4e1-4e8887968764",
   "metadata": {},
   "source": [
    "***"
   ]
  },
  {
   "cell_type": "markdown",
   "id": "335f9d26-4df8-4682-b3e9-820477e3ad27",
   "metadata": {},
   "source": [
    "#### The result that contains the top five cities’ sales and the month it took place in 2010, excluding Austin"
   ]
  },
  {
   "cell_type": "code",
   "execution_count": 110,
   "id": "82a56771-4a08-4dc8-8b81-b72dfe8174f1",
   "metadata": {},
   "outputs": [
    {
     "name": "stdout",
     "output_type": "stream",
     "text": [
      " * sqlite:///housing.db\n",
      "Done.\n"
     ]
    },
    {
     "data": {
      "text/html": [
       "<table>\n",
       "    <thead>\n",
       "        <tr>\n",
       "            <th>city</th>\n",
       "            <th>month</th>\n",
       "            <th>sales</th>\n",
       "        </tr>\n",
       "    </thead>\n",
       "    <tbody>\n",
       "        <tr>\n",
       "            <td>Houston</td>\n",
       "            <td>5</td>\n",
       "            <td>6335</td>\n",
       "        </tr>\n",
       "        <tr>\n",
       "            <td>Houston</td>\n",
       "            <td>6</td>\n",
       "            <td>6117</td>\n",
       "        </tr>\n",
       "        <tr>\n",
       "            <td>Houston</td>\n",
       "            <td>4</td>\n",
       "            <td>5932</td>\n",
       "        </tr>\n",
       "        <tr>\n",
       "            <td>Houston</td>\n",
       "            <td>3</td>\n",
       "            <td>5389</td>\n",
       "        </tr>\n",
       "        <tr>\n",
       "            <td>Dallas</td>\n",
       "            <td>5</td>\n",
       "            <td>4891</td>\n",
       "        </tr>\n",
       "    </tbody>\n",
       "</table>"
      ],
      "text/plain": [
       "[('Houston', 5, 6335),\n",
       " ('Houston', 6, 6117),\n",
       " ('Houston', 4, 5932),\n",
       " ('Houston', 3, 5389),\n",
       " ('Dallas', 5, 4891)]"
      ]
     },
     "execution_count": 110,
     "metadata": {},
     "output_type": "execute_result"
    }
   ],
   "source": [
    "%%sql\n",
    "SELECT \n",
    "    city,\n",
    "    month,\n",
    "    sales\n",
    "FROM \n",
    "    housing\n",
    "WHERE \n",
    "    city != 'Austin' \n",
    "    AND year = 2010\n",
    "ORDER BY \n",
    "    sales DESC\n",
    "LIMIT 5;"
   ]
  },
  {
   "cell_type": "markdown",
   "id": "cf721e6b-ec27-44c0-8bf1-5dd4f146c65a",
   "metadata": {},
   "source": [
    "***"
   ]
  },
  {
   "cell_type": "markdown",
   "id": "571e77e3-0ba0-4263-b91a-1e90ce1bc0c0",
   "metadata": {},
   "source": [
    "#### City, year, and month in which the fewest sales took place."
   ]
  },
  {
   "cell_type": "code",
   "execution_count": 116,
   "id": "39ea45d9-a0f9-4adf-9a97-2c72b6e722dc",
   "metadata": {},
   "outputs": [
    {
     "name": "stdout",
     "output_type": "stream",
     "text": [
      " * sqlite:///housing.db\n",
      "Done.\n"
     ]
    },
    {
     "data": {
      "text/html": [
       "<table>\n",
       "    <thead>\n",
       "        <tr>\n",
       "            <th>fewest_sales</th>\n",
       "            <th>city</th>\n",
       "            <th>year</th>\n",
       "            <th>month</th>\n",
       "        </tr>\n",
       "    </thead>\n",
       "    <tbody>\n",
       "        <tr>\n",
       "            <td>6</td>\n",
       "            <td>San Marcos</td>\n",
       "            <td>2011</td>\n",
       "            <td>10</td>\n",
       "        </tr>\n",
       "    </tbody>\n",
       "</table>"
      ],
      "text/plain": [
       "[(6, 'San Marcos', 2011, 10)]"
      ]
     },
     "execution_count": 116,
     "metadata": {},
     "output_type": "execute_result"
    }
   ],
   "source": [
    "%%sql\n",
    "SELECT \n",
    "    sales AS fewest_sales,\n",
    "    city,\n",
    "    year,\n",
    "    month\n",
    "FROM \n",
    "    housing\n",
    "ORDER BY \n",
    "    sales ASC\n",
    "LIMIT 1;"
   ]
  },
  {
   "cell_type": "markdown",
   "id": "0f4a9f04-0903-4ad1-8bdc-fbc5f30ec036",
   "metadata": {},
   "source": [
    "***"
   ]
  },
  {
   "cell_type": "markdown",
   "id": "be86ca0c-8b34-4899-82f6-f4c20ae711c6",
   "metadata": {},
   "source": [
    "#### Mean sales in each year."
   ]
  },
  {
   "cell_type": "code",
   "execution_count": 120,
   "id": "b72d6082-ec0b-4583-8d02-ef06a822d23f",
   "metadata": {},
   "outputs": [
    {
     "name": "stdout",
     "output_type": "stream",
     "text": [
      " * sqlite:///housing.db\n",
      "Done.\n"
     ]
    },
    {
     "data": {
      "text/html": [
       "<table>\n",
       "    <thead>\n",
       "        <tr>\n",
       "            <th>year</th>\n",
       "            <th>mean_sales</th>\n",
       "        </tr>\n",
       "    </thead>\n",
       "    <tbody>\n",
       "        <tr>\n",
       "            <td>2000</td>\n",
       "            <td>403.04891304347825</td>\n",
       "        </tr>\n",
       "        <tr>\n",
       "            <td>2001</td>\n",
       "            <td>419.29891304347825</td>\n",
       "        </tr>\n",
       "        <tr>\n",
       "            <td>2002</td>\n",
       "            <td>425.0</td>\n",
       "        </tr>\n",
       "        <tr>\n",
       "            <td>2003</td>\n",
       "            <td>459.9800724637681</td>\n",
       "        </tr>\n",
       "        <tr>\n",
       "            <td>2004</td>\n",
       "            <td>514.4909420289855</td>\n",
       "        </tr>\n",
       "        <tr>\n",
       "            <td>2005</td>\n",
       "            <td>572.5471014492754</td>\n",
       "        </tr>\n",
       "        <tr>\n",
       "            <td>2006</td>\n",
       "            <td>629.9510869565217</td>\n",
       "        </tr>\n",
       "        <tr>\n",
       "            <td>2007</td>\n",
       "            <td>593.661231884058</td>\n",
       "        </tr>\n",
       "        <tr>\n",
       "            <td>2008</td>\n",
       "            <td>501.2028985507246</td>\n",
       "        </tr>\n",
       "        <tr>\n",
       "            <td>2009</td>\n",
       "            <td>462.4166666666667</td>\n",
       "        </tr>\n",
       "        <tr>\n",
       "            <td>2010</td>\n",
       "            <td>440.2427536231884</td>\n",
       "        </tr>\n",
       "        <tr>\n",
       "            <td>2011</td>\n",
       "            <td>446.2971014492754</td>\n",
       "        </tr>\n",
       "        <tr>\n",
       "            <td>2012</td>\n",
       "            <td>520.0217391304348</td>\n",
       "        </tr>\n",
       "        <tr>\n",
       "            <td>2013</td>\n",
       "            <td>607.054347826087</td>\n",
       "        </tr>\n",
       "        <tr>\n",
       "            <td>2014</td>\n",
       "            <td>626.304347826087</td>\n",
       "        </tr>\n",
       "        <tr>\n",
       "            <td>2015</td>\n",
       "            <td>646.3478260869565</td>\n",
       "        </tr>\n",
       "    </tbody>\n",
       "</table>"
      ],
      "text/plain": [
       "[(2000, 403.04891304347825),\n",
       " (2001, 419.29891304347825),\n",
       " (2002, 425.0),\n",
       " (2003, 459.9800724637681),\n",
       " (2004, 514.4909420289855),\n",
       " (2005, 572.5471014492754),\n",
       " (2006, 629.9510869565217),\n",
       " (2007, 593.661231884058),\n",
       " (2008, 501.2028985507246),\n",
       " (2009, 462.4166666666667),\n",
       " (2010, 440.2427536231884),\n",
       " (2011, 446.2971014492754),\n",
       " (2012, 520.0217391304348),\n",
       " (2013, 607.054347826087),\n",
       " (2014, 626.304347826087),\n",
       " (2015, 646.3478260869565)]"
      ]
     },
     "execution_count": 120,
     "metadata": {},
     "output_type": "execute_result"
    }
   ],
   "source": [
    "%%sql\n",
    "SELECT \n",
    "    year,\n",
    "    AVG(sales) AS mean_sales\n",
    "FROM \n",
    "    housing\n",
    "GROUP BY \n",
    "    year\n",
    "ORDER BY \n",
    "    year;"
   ]
  },
  {
   "cell_type": "markdown",
   "id": "f55e3a03-c699-489b-aef0-5c8a1818142a",
   "metadata": {},
   "source": [
    "***"
   ]
  },
  {
   "cell_type": "markdown",
   "id": "419ea313-21dc-4a5b-a94f-14bcddf0f9d5",
   "metadata": {},
   "source": [
    "#### the years that had mean sales greater than 600."
   ]
  },
  {
   "cell_type": "code",
   "execution_count": 124,
   "id": "a3490ef4-921c-4f4b-9d70-8cfb4b49d785",
   "metadata": {},
   "outputs": [
    {
     "name": "stdout",
     "output_type": "stream",
     "text": [
      " * sqlite:///housing.db\n",
      "Done.\n"
     ]
    },
    {
     "data": {
      "text/html": [
       "<table>\n",
       "    <thead>\n",
       "        <tr>\n",
       "            <th>year</th>\n",
       "            <th>mean_sales</th>\n",
       "        </tr>\n",
       "    </thead>\n",
       "    <tbody>\n",
       "        <tr>\n",
       "            <td>2006</td>\n",
       "            <td>629.9510869565217</td>\n",
       "        </tr>\n",
       "        <tr>\n",
       "            <td>2013</td>\n",
       "            <td>607.054347826087</td>\n",
       "        </tr>\n",
       "        <tr>\n",
       "            <td>2014</td>\n",
       "            <td>626.304347826087</td>\n",
       "        </tr>\n",
       "        <tr>\n",
       "            <td>2015</td>\n",
       "            <td>646.3478260869565</td>\n",
       "        </tr>\n",
       "    </tbody>\n",
       "</table>"
      ],
      "text/plain": [
       "[(2006, 629.9510869565217),\n",
       " (2013, 607.054347826087),\n",
       " (2014, 626.304347826087),\n",
       " (2015, 646.3478260869565)]"
      ]
     },
     "execution_count": 124,
     "metadata": {},
     "output_type": "execute_result"
    }
   ],
   "source": [
    "%%sql\n",
    "SELECT \n",
    "    year,\n",
    "    AVG(sales) AS mean_sales\n",
    "FROM \n",
    "    housing\n",
    "GROUP BY \n",
    "    year\n",
    "HAVING \n",
    "    AVG(sales) > 600\n",
    "ORDER BY \n",
    "    year;"
   ]
  },
  {
   "cell_type": "code",
   "execution_count": null,
   "id": "23b396b1-ab42-4485-8d91-9e02d3aa00c3",
   "metadata": {},
   "outputs": [],
   "source": []
  }
 ],
 "metadata": {
  "kernelspec": {
   "display_name": "Python [conda env:base] *",
   "language": "python",
   "name": "conda-base-py"
  },
  "language_info": {
   "codemirror_mode": {
    "name": "ipython",
    "version": 3
   },
   "file_extension": ".py",
   "mimetype": "text/x-python",
   "name": "python",
   "nbconvert_exporter": "python",
   "pygments_lexer": "ipython3",
   "version": "3.12.7"
  }
 },
 "nbformat": 4,
 "nbformat_minor": 5
}
